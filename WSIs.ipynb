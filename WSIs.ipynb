{
 "cells": [
  {
   "cell_type": "markdown",
   "metadata": {
    "toc": true
   },
   "source": [
    "<h1>Table of Contents<span class=\"tocSkip\"></span></h1>\n",
    "<div class=\"toc\"><ul class=\"toc-item\"></ul></div>"
   ]
  },
  {
   "cell_type": "code",
   "execution_count": 1,
   "metadata": {
    "colab": {
     "base_uri": "https://localhost:8080/"
    },
    "id": "YBWpVW_7s95K",
    "outputId": "c0539f62-1b2e-4109-d7be-b2b5d846b487"
   },
   "outputs": [],
   "source": [
    "# !apt update && apt install -y openslide-tools\n",
    "# !pip install openslide-python"
   ]
  },
  {
   "cell_type": "code",
   "execution_count": 2,
   "metadata": {
    "colab": {
     "base_uri": "https://localhost:8080/"
    },
    "id": "cIeT5rMgXjbZ",
    "outputId": "1785422f-8615-45dc-cc4b-80a1fe94a122"
   },
   "outputs": [],
   "source": [
    "# !rm -r \"/content/drive/MyDrive/Teaching&Thesis/Teaching_dataset/teaching-MLinAPP\"\n",
    "# !git clone https://github.com/frpnz/teaching-MLinAPP.git \"/content/drive/MyDrive/Teaching&Thesis/Teaching_dataset/teaching-MLinAPP\""
   ]
  },
  {
   "cell_type": "code",
   "execution_count": 3,
   "metadata": {
    "id": "aJMwibgmtReE"
   },
   "outputs": [],
   "source": [
    "import os\n",
    "import sys\n",
    "import openslide\n",
    "import numpy as np\n",
    "import pandas as pd\n",
    "from glob import glob\n",
    "import tensorflow as tf\n",
    "os.environ[\"CUDA_VISIBLE_DEVICES\"] = '0'\n",
    "os.environ[\"TF_FORCE_GPU_ALLOW_GROWTH\"] = 'true'\n",
    "import matplotlib.pyplot as plt\n",
    "import openslide.deepzoom as dz\n",
    "from sklearn import model_selection\n",
    "rootdir_wsi = \"/space/ponzio/CRC_ROIs_5_classes/\"\n",
    "rootdir_src = \"/space/ponzio/teaching-MLinAPP/src/\"\n",
    "sys.path.append(rootdir_src)\n",
    "from resnet import ResNet\n",
    "from dataset_wsi import DatasetWSI\n",
    "# ----------------------\n",
    "tile_size = 500\n",
    "overlap = 6\n",
    "input_shape = (512, 512, 3)\n",
    "epochs = 10\n",
    "batch_size = 32\n",
    "class_dict = {\n",
    "    \"AC\": 0,\n",
    "    \"H\": 1,\n",
    "    \"Serr\": 2,\n",
    "    \"T\": 3,\n",
    "    \"V\": 4}\n",
    "# ----------------------\n",
    "num_classes = len(class_dict.keys())\n",
    "wsi_file_paths = glob(os.path.join(rootdir_wsi, '*.svs'))\n",
    "df = pd.DataFrame([os.path.basename(slide).split('.')[0].split('_') for slide in wsi_file_paths], columns=[\"Patient\",\n",
    "                                                                                                           \"Type\",\n",
    "                                                                                                           \"Sub-type\",\n",
    "                                                                                                           \"Dysplasia\",\n",
    "                                                                                                           \"#-Annotation\"])\n",
    "df['Path'] = wsi_file_paths\n",
    "splitter = model_selection.GroupShuffleSplit(test_size=.20, n_splits=2, random_state=7)\n",
    "split = splitter.split(df, groups=df['Patient'])\n",
    "train_inds, test_inds = next(split)\n",
    "wsi_file_paths_train = df['Path'][train_inds]\n",
    "wsi_file_paths_test = df['Path'][test_inds]\n",
    "wsi_labels_train = df['Sub-type'][train_inds]\n",
    "wsi_labels_test = df['Sub-type'][test_inds]"
   ]
  },
  {
   "cell_type": "code",
   "execution_count": null,
   "metadata": {},
   "outputs": [],
   "source": [
    "dataset_train = DatasetWSI(wsi_file_paths_train,\n",
    "                           wsi_labels_train,\n",
    "                           class_dict,\n",
    "                           input_shape,\n",
    "                           batch_size=batch_size,\n",
    "                           tile_size=tile_size,\n",
    "                           overlap=6).make_dataset()\n",
    "dataset_test = DatasetWSI(wsi_file_paths_test,\n",
    "                          wsi_labels_test,\n",
    "                          class_dict,\n",
    "                          input_shape,\n",
    "                          batch_size=batch_size,\n",
    "                          tile_size=tile_size,\n",
    "                          overlap=6).make_dataset()"
   ]
  },
  {
   "cell_type": "code",
   "execution_count": null,
   "metadata": {
    "id": "OWmrhB7dxdxM"
   },
   "outputs": [],
   "source": [
    "inv_class_dict = {v: k for k, v in class_dict.items()}\n",
    "for batch_x, batch_y in dataset.take(2):\n",
    "    fig, ax = plt.subplots(5, 5, figsize=(18, 18))\n",
    "    ax = ax.ravel()\n",
    "    j = 0\n",
    "    for image, label in zip(batch_x[:25], batch_y[:25]):\n",
    "        label = label.numpy()\n",
    "        img = image.numpy()\n",
    "        ax[j].imshow(img)\n",
    "        ax[j].axis('off')\n",
    "        ax[j].set_title(\"Class: {}\".format(inv_class_dict[int(np.argmax(label))]))\n",
    "        j += 1"
   ]
  },
  {
   "cell_type": "code",
   "execution_count": null,
   "metadata": {
    "id": "ZUi4mQXgdQLr"
   },
   "outputs": [],
   "source": [
    "# inputs = tf.keras.Input((512, 512, 3))\n",
    "# x = tf.keras.applications.ResNet50(include_top=False, weights=\"imagenet\")(inputs)\n",
    "# x = tf.keras.layers.GlobalAveragePooling2D()(x)\n",
    "# x = tf.keras.layers.Dense(2, activation=\"softmax\")(x)\n",
    "# model = tf.keras.models.Model(inputs=inputs, outputs=x)\n",
    "model = ResNet((input_shape[0], input_shape[1]), \n",
    "               num_classes=num_classes, \n",
    "               augment=True)"
   ]
  },
  {
   "cell_type": "code",
   "execution_count": null,
   "metadata": {
    "id": "m549m0Td__Zf"
   },
   "outputs": [],
   "source": [
    "optimizer = tf.keras.optimizers.SGD(learning_rate=0.001)\n",
    "loss = tf.keras.losses.categorical_crossentropy\n",
    "model.compile(optimizer=optimizer, loss=loss, metrics=[\"accuracy\"])"
   ]
  },
  {
   "cell_type": "code",
   "execution_count": null,
   "metadata": {
    "id": "xWJzv7-mAGYu"
   },
   "outputs": [],
   "source": [
    "model.fit(dataset, epochs=1)"
   ]
  }
 ],
 "metadata": {
  "colab": {
   "collapsed_sections": [],
   "name": "WSIs.ipynb",
   "provenance": []
  },
  "kernelspec": {
   "display_name": "Python 3",
   "language": "python",
   "name": "python3"
  },
  "language_info": {
   "codemirror_mode": {
    "name": "ipython",
    "version": 3
   },
   "file_extension": ".py",
   "mimetype": "text/x-python",
   "name": "python",
   "nbconvert_exporter": "python",
   "pygments_lexer": "ipython3",
   "version": "3.6.9"
  },
  "toc": {
   "base_numbering": 1,
   "nav_menu": {},
   "number_sections": true,
   "sideBar": true,
   "skip_h1_title": false,
   "title_cell": "Table of Contents",
   "title_sidebar": "",
   "toc_cell": true,
   "toc_position": {
    "height": "calc(100% - 180px)",
    "left": "10px",
    "top": "150px",
    "width": "165px"
   },
   "toc_section_display": true,
   "toc_window_display": true
  }
 },
 "nbformat": 4,
 "nbformat_minor": 1
}
