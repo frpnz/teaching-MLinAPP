{
 "cells": [
  {
   "cell_type": "markdown",
   "id": "dddb5352",
   "metadata": {
    "toc": true
   },
   "source": [
    "<h1>Table of Contents<span class=\"tocSkip\"></span></h1>\n",
    "<div class=\"toc\"><ul class=\"toc-item\"></ul></div>"
   ]
  },
  {
   "cell_type": "code",
   "execution_count": null,
   "id": "595c71e9",
   "metadata": {},
   "outputs": [],
   "source": [
    "import os\n",
    "import sys\n",
    "import pickle\n",
    "import openslide\n",
    "import matplotlib\n",
    "import numpy as np\n",
    "from PIL import Image\n",
    "import tensorflow as tf\n",
    "rootdir_src = \"/space/ponzio/teaching-MLinAPP/src/\"\n",
    "dir_slides = \"/space/ponzio/CRC_WSIs/\"\n",
    "dir_tiles = \"/space/ponzio/CRC_WSIs/CRC_WSIs_tiles\"\n",
    "sys.path.append(rootdir_src)\n",
    "from annotation_utils import get_annotation_mask\n",
    "from wsi_utils import filt_tile_placeholders\n",
    "from wsi_utils import get_heatmap"
   ]
  },
  {
   "cell_type": "code",
   "execution_count": null,
   "id": "743a58e9",
   "metadata": {},
   "outputs": [],
   "source": [
    "img_id = 13\n",
    "img_fname = os.path.join(dir_slides, \"{}.svs\".format(img_id))\n",
    "xml_fname = os.path.join(dir_slides, \"{}.xml\".format(img_id))\n",
    "tiles_fname = os.path.join(dir_tiles, \"{}_tile_placeholders.pickle\".format(img_id))\n",
    "slide = openslide.OpenSlide(img_fname)\n",
    "mask = get_annotation_mask(xml_fname, slide, 1/50, \"red\")"
   ]
  },
  {
   "cell_type": "code",
   "execution_count": null,
   "id": "9c673337",
   "metadata": {},
   "outputs": [],
   "source": [
    "Image.fromarray(mask)"
   ]
  },
  {
   "cell_type": "code",
   "execution_count": null,
   "id": "08605b25",
   "metadata": {},
   "outputs": [],
   "source": [
    "with open(tiles_fname, \"rb\") as fp:\n",
    "    tiles = pickle.load(fp)\n",
    "heatmap_NH, segmentation = get_heatmap(tiles,\n",
    "                                       class_to_map=1,\n",
    "                                       level_downsample=1/50,\n",
    "                                       num_classes=2,\n",
    "                                       threshold=0.5,\n",
    "                                       colormap=matplotlib.cm.get_cmap('Reds'),\n",
    "                                       tile_placeholders_mapping_key='prediction')"
   ]
  },
  {
   "cell_type": "code",
   "execution_count": null,
   "id": "7bb638f2",
   "metadata": {},
   "outputs": [],
   "source": [
    "heatmap_NH"
   ]
  },
  {
   "cell_type": "code",
   "execution_count": null,
   "id": "fbb104ea",
   "metadata": {},
   "outputs": [],
   "source": [
    "Image.fromarray(segmentation)"
   ]
  },
  {
   "cell_type": "code",
   "execution_count": null,
   "id": "04cb832f",
   "metadata": {},
   "outputs": [],
   "source": [
    "segmentation[segmentation!=0] = 255\n",
    "Image.fromarray(segmentation)"
   ]
  },
  {
   "cell_type": "code",
   "execution_count": null,
   "id": "77c989ef",
   "metadata": {},
   "outputs": [],
   "source": [
    "ground_thruth = np.ravel(mask)/255\n",
    "preds = np.ravel(segmentation)/255"
   ]
  },
  {
   "cell_type": "code",
   "execution_count": null,
   "id": "21849275",
   "metadata": {},
   "outputs": [],
   "source": [
    "m = tf.keras.metrics.MeanIoU(num_classes=2)\n",
    "m.update_state(ground_thruth, preds)\n",
    "m.result().numpy()"
   ]
  }
 ],
 "metadata": {
  "kernelspec": {
   "display_name": "Python 3",
   "language": "python",
   "name": "python3"
  },
  "language_info": {
   "codemirror_mode": {
    "name": "ipython",
    "version": 3
   },
   "file_extension": ".py",
   "mimetype": "text/x-python",
   "name": "python",
   "nbconvert_exporter": "python",
   "pygments_lexer": "ipython3",
   "version": "3.6.9"
  },
  "toc": {
   "base_numbering": 1,
   "nav_menu": {},
   "number_sections": true,
   "sideBar": true,
   "skip_h1_title": false,
   "title_cell": "Table of Contents",
   "title_sidebar": "",
   "toc_cell": true,
   "toc_position": {
    "height": "calc(100% - 180px)",
    "left": "10px",
    "top": "150px",
    "width": "191px"
   },
   "toc_section_display": true,
   "toc_window_display": true
  }
 },
 "nbformat": 4,
 "nbformat_minor": 5
}
